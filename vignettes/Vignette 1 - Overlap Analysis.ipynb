{
 "cells": [
  {
   "cell_type": "markdown",
   "id": "2d94921b",
   "metadata": {},
   "source": [
    "# Vignette 1 - Overlap Analysis"
   ]
  },
  {
   "cell_type": "markdown",
   "id": "1bbb4090",
   "metadata": {},
   "source": [
    "## Philosophy + Statement of Intent"
   ]
  },
  {
   "cell_type": "markdown",
   "id": "12f8925c",
   "metadata": {},
   "source": [
    "The main idea is to study SNP-Gene pairs. The initial step will be to generate a basis of loci pairs. This basis is the centerpiece of all other functions and intersections. During intersections this package then strictly enforces these two rules:\n",
    "1) intersections should be done using only the interval columns only  \n",
    "2) metadata should only be included at the very end of the analysis \n",
    "\n",
    "After these details I am relying on the following Python packages and software:\n",
    "- bedtools\n",
    "- pybedtools\n",
    "- pandas"
   ]
  },
  {
   "cell_type": "markdown",
   "id": "c3f8c39a",
   "metadata": {},
   "source": [
    "## Introduction"
   ]
  },
  {
   "cell_type": "markdown",
   "id": "ee625d63",
   "metadata": {},
   "source": [
    "In the processing of deciphering SNPs, genes, and overlapping loops there are a lot of questions we have and lots of evidence that we have to provide. In order to do this, we end up having to download lists of ChIP-seq, ATAC-seq, loops and many other types of files. This can become very tedious and there is a lot of room to mess up therefore I have compiled this package in order to be better handle this process. My main goal is to:\n",
    "1. Flawlessly create an overlap analysis between SNPs, genes and loops which server as a base for future overlaps  \n",
    "2. Create methods that allow you to easily overlap 1D data with your choice of SNPs or genes  \n",
    "3. Create methods that allow you to easily overlap 3D data\n",
    "4. Create methods that can create WashU track files for visualization with the ability to:  \n",
    "    a. Color important loops an obvious/different colors  "
   ]
  },
  {
   "cell_type": "markdown",
   "id": "9f9f042e",
   "metadata": {},
   "source": [
    "### Other technical goals of the package"
   ]
  },
  {
   "cell_type": "markdown",
   "id": "94811625",
   "metadata": {},
   "source": [
    "- Create SNP-Gene pairs by using loops as candidate loci pairs (start with loops; MAIN)\n",
    "- Create SNP-Gene pairs using the closests gene (start with SNPs)\n",
    "- Create SNP-Gene pairs using the closests snp (start with Genes)\n",
    "- Other strategies like eQTL data"
   ]
  },
  {
   "cell_type": "code",
   "execution_count": 2,
   "id": "000bf92c",
   "metadata": {},
   "outputs": [],
   "source": [
    "import chromolooper"
   ]
  },
  {
   "cell_type": "markdown",
   "id": "b1f1a184",
   "metadata": {},
   "source": [
    "## Creating an base set of SGLs"
   ]
  },
  {
   "cell_type": "code",
   "execution_count": null,
   "id": "6876ffd3",
   "metadata": {},
   "outputs": [],
   "source": []
  },
  {
   "cell_type": "code",
   "execution_count": null,
   "id": "14c50f4e",
   "metadata": {},
   "outputs": [],
   "source": []
  },
  {
   "cell_type": "code",
   "execution_count": null,
   "id": "1c8c9039",
   "metadata": {},
   "outputs": [],
   "source": []
  },
  {
   "cell_type": "code",
   "execution_count": null,
   "id": "0e8ffd70",
   "metadata": {},
   "outputs": [],
   "source": []
  },
  {
   "cell_type": "code",
   "execution_count": null,
   "id": "93286ee5",
   "metadata": {},
   "outputs": [],
   "source": []
  },
  {
   "cell_type": "code",
   "execution_count": null,
   "id": "a7d51e6b",
   "metadata": {},
   "outputs": [],
   "source": []
  },
  {
   "cell_type": "code",
   "execution_count": null,
   "id": "0d8e2433",
   "metadata": {},
   "outputs": [],
   "source": []
  },
  {
   "cell_type": "code",
   "execution_count": null,
   "id": "40bad203",
   "metadata": {},
   "outputs": [],
   "source": []
  },
  {
   "cell_type": "code",
   "execution_count": null,
   "id": "a3e3ccf6",
   "metadata": {},
   "outputs": [],
   "source": []
  },
  {
   "cell_type": "code",
   "execution_count": null,
   "id": "5d2d7d46",
   "metadata": {},
   "outputs": [],
   "source": []
  },
  {
   "cell_type": "code",
   "execution_count": null,
   "id": "6a2a90cf",
   "metadata": {},
   "outputs": [],
   "source": []
  }
 ],
 "metadata": {
  "kernelspec": {
   "display_name": "(hichip-db)",
   "language": "python",
   "name": "hichip-db"
  },
  "language_info": {
   "codemirror_mode": {
    "name": "ipython",
    "version": 3
   },
   "file_extension": ".py",
   "mimetype": "text/x-python",
   "name": "python",
   "nbconvert_exporter": "python",
   "pygments_lexer": "ipython3",
   "version": "3.9.10"
  }
 },
 "nbformat": 4,
 "nbformat_minor": 5
}
