{
 "cells": [
  {
   "cell_type": "code",
   "execution_count": null,
   "id": "8fa7dd4b",
   "metadata": {},
   "outputs": [],
   "source": [
    "import os \n",
    "import pandas as pd\n",
    "import numpy as np"
   ]
  },
  {
   "cell_type": "code",
   "execution_count": null,
   "id": "4fba34c5",
   "metadata": {},
   "outputs": [],
   "source": [
    "from chromolooper import sgls\n",
    "from chromolooper import sgpair_manager\n",
    "from importlib import reload\n",
    "reload(sgpair_manager)"
   ]
  },
  {
   "cell_type": "code",
   "execution_count": null,
   "id": "384e79ae",
   "metadata": {},
   "outputs": [],
   "source": [
    "os.chdir('/mnt/BioHome/jreyna/jreyna-temp/projects/dchallenge/')"
   ]
  },
  {
   "cell_type": "markdown",
   "id": "6fd51ef8",
   "metadata": {},
   "source": [
    "### Testing SNP construction"
   ]
  },
  {
   "cell_type": "code",
   "execution_count": null,
   "id": "31795d91",
   "metadata": {
    "scrolled": true
   },
   "outputs": [],
   "source": [
    "snp_fn = 'results/main/coloc/Data/T1D_GWAS/T1D_34012112_Gaulton/GRCh37/GWAS_input_colocalization_pval_lt_5eMinus8.txt'\n",
    "snp_df = pd.read_table(snp_fn)\n",
    "display(snp_df.head())"
   ]
  },
  {
   "cell_type": "code",
   "execution_count": null,
   "id": "c023bb96",
   "metadata": {},
   "outputs": [],
   "source": [
    "from importlib import reload\n",
    "reload(sgpair_manager)\n",
    "\n",
    "snp_df['sid'] = snp_df.apply(lambda x: sgpair_manager.create_basic_snp_id(x[0], x[1]), axis=1)\n",
    "sgm = sgpair_manager.sgpair_manager(snp_data=snp_df, snp_id_col=-1)\n",
    "\n",
    "display(sgm.snp_coords)\n",
    "display(sgm.snp_coords.to_dataframe())\n",
    "display(sgm.snp_meta)"
   ]
  },
  {
   "cell_type": "markdown",
   "id": "3895005e",
   "metadata": {},
   "source": [
    "### Testing gene construction"
   ]
  },
  {
   "cell_type": "code",
   "execution_count": null,
   "id": "2fa012eb",
   "metadata": {},
   "outputs": [],
   "source": [
    "# load gene coordinates\n",
    "gene_coords = pd.read_table('results/refs/gencode/v30/gencode.v30.annotation.grch37.genes_only.bed.gz', header=None)"
   ]
  },
  {
   "cell_type": "code",
   "execution_count": null,
   "id": "983fe84c",
   "metadata": {},
   "outputs": [],
   "source": [
    "from importlib import reload\n",
    "reload(sgpair_manager)\n",
    "\n",
    "sgm = sgpair_manager.sgpair_manager(gene_data=gene_coords, gene_id_col=5)\n",
    "\n",
    "display(sgm.gene_coords)\n",
    "display(sgm.gene_coords.to_dataframe())\n",
    "display(sgm.gene_meta)"
   ]
  },
  {
   "cell_type": "markdown",
   "id": "c579fb78",
   "metadata": {},
   "source": [
    "### Testing loop construction"
   ]
  },
  {
   "cell_type": "code",
   "execution_count": null,
   "id": "7cae7d8e",
   "metadata": {},
   "outputs": [],
   "source": [
    "jurkat_loops = '/mnt/BioAdHoc/Groups/vd-vijay/sourya/Projects/2020_IQTL_HiChIP/Data/Jurkat_FitHiChIP_Loops/HiChIP_Samples_Run1_Nov2019_Jurkat_JC_L004/Out_FitHiChIP/FitHiChIP_Peak2ALL_b5000_L10000_U3000000/P2PBckgr_1/Coverage_Bias/FitHiC_BiasCorr/FitHiChIP.interactions_FitHiC_Q0.01.bed'\n",
    "jurkat_loops = pd.read_table(jurkat_loops)\n",
    "jurkat_loops['loop_id'] = sgpair_manager.create_loop_id_col(jurkat_loops)"
   ]
  },
  {
   "cell_type": "code",
   "execution_count": null,
   "id": "8ace68ed",
   "metadata": {},
   "outputs": [],
   "source": [
    "from importlib import reload\n",
    "reload(sgpair_manager)\n",
    "\n",
    "sgm = sgpair_manager.sgpair_manager(loop_data=jurkat_loops, loop_id_col=-1)\n",
    "\n",
    "display(sgm.loop_coords)\n",
    "display(sgm.loop_coords.to_dataframe())\n",
    "display(sgm.loop_meta)"
   ]
  },
  {
   "cell_type": "markdown",
   "id": "3f9b1e31",
   "metadata": {},
   "source": [
    "### Testing construction with all three main data pieces"
   ]
  },
  {
   "cell_type": "code",
   "execution_count": null,
   "id": "e3348712",
   "metadata": {},
   "outputs": [],
   "source": [
    "sgm = sgpair_manager.sgpair_manager(snp_data=snp_df, snp_id_col=-1, \n",
    "                                    gene_data=gene_coords, gene_id_col=5,\n",
    "                                    loop_data=jurkat_loops, loop_id_col=-1)\n",
    "\n",
    "# display(sgm.loop_coords)\n",
    "# display(sgm.loop_coords.to_dataframe())\n",
    "# display(sgm.loop_meta)"
   ]
  },
  {
   "cell_type": "code",
   "execution_count": null,
   "id": "449a1909",
   "metadata": {},
   "outputs": [],
   "source": [
    "import pybedtools as pbt"
   ]
  },
  {
   "cell_type": "code",
   "execution_count": null,
   "id": "5631cb12",
   "metadata": {},
   "outputs": [],
   "source": [
    "pbt.set_bedtools_path(sgls.BEDTOOLS_DIR)"
   ]
  },
  {
   "cell_type": "code",
   "execution_count": null,
   "id": "1935bb05",
   "metadata": {},
   "outputs": [],
   "source": [
    "snp_loops = sgm.loop_coords.pairtobed(sgm.snp_coords)"
   ]
  },
  {
   "cell_type": "code",
   "execution_count": null,
   "id": "5d021229",
   "metadata": {},
   "outputs": [],
   "source": []
  },
  {
   "cell_type": "code",
   "execution_count": null,
   "id": "64165601",
   "metadata": {},
   "outputs": [],
   "source": []
  },
  {
   "cell_type": "code",
   "execution_count": null,
   "id": "8144854c",
   "metadata": {},
   "outputs": [],
   "source": []
  },
  {
   "cell_type": "code",
   "execution_count": null,
   "id": "bc7f73e5",
   "metadata": {},
   "outputs": [],
   "source": []
  }
 ],
 "metadata": {
  "kernelspec": {
   "display_name": "(hichip-db)",
   "language": "python",
   "name": "hichip-db"
  },
  "language_info": {
   "codemirror_mode": {
    "name": "ipython",
    "version": 3
   },
   "file_extension": ".py",
   "mimetype": "text/x-python",
   "name": "python",
   "nbconvert_exporter": "python",
   "pygments_lexer": "ipython3",
   "version": "3.9.10"
  }
 },
 "nbformat": 4,
 "nbformat_minor": 5
}
